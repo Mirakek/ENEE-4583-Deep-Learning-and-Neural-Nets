{
 "cells": [
  {
   "cell_type": "code",
   "execution_count": null,
   "id": "643ba180",
   "metadata": {},
   "outputs": [],
   "source": [
    "import numpy as np\n",
    "import matplotlib.pyplot as plt\n",
    "import tensorflow as tf\n",
    "import keras\n",
    "from keras import datasets, layers, models, regularizers\n",
    "from keras.models import Sequential\n",
    "from keras.layers import Conv2D, MaxPooling2D, Dense, Flatten, Dropout\n",
    "from keras.optimizers import Adagrad, RMSprop, Adam\n",
    "from keras.preprocessing.image import ImageDataGenerator\n",
    "from keras.callbacks import EarlyStopping, ModelCheckpoint\n",
    "from keras.layers import BatchNormalization\n",
    "import random"
   ]
  },
  {
   "cell_type": "code",
   "execution_count": 7,
   "id": "7864a5ff",
   "metadata": {},
   "outputs": [
    {
     "name": "stdout",
     "output_type": "stream",
     "text": [
      "Downloading data from https://www.cs.toronto.edu/~kriz/cifar-10-python.tar.gz\n",
      "170498071/170498071 [==============================] - 6s 0us/step\n"
     ]
    }
   ],
   "source": [
    "(x_train, y_train), (x_test, y_test) = tf.keras.datasets.cifar10.load_data()"
   ]
  },
  {
   "cell_type": "code",
   "execution_count": 8,
   "id": "eaa25aa2",
   "metadata": {},
   "outputs": [
    {
     "name": "stdout",
     "output_type": "stream",
     "text": [
      "done\n"
     ]
    }
   ],
   "source": [
    "# One-hot encode\n",
    "num_classes = 10\n",
    "y_train = tf.keras.utils.to_categorical(y_train, num_classes = 10, dtype=\"float32\")\n",
    "y_test = tf.keras.utils.to_categorical(y_test, num_classes = 10, dtype=\"float32\")\n",
    "\n",
    "# Normalize\n",
    "x_train = x_train/255.0\n",
    "x_test = x_test/255.0\n",
    "print('done') # make sure I don't run this code multiple times and keep dividing the data"
   ]
  },
  {
   "cell_type": "code",
   "execution_count": 9,
   "id": "4e4e6665",
   "metadata": {},
   "outputs": [
    {
     "data": {
      "image/png": "[encoded data removed]",
      "text/plain": [
       "<Figure size 640x480 with 1 Axes>"
      ]
     },
     "metadata": {},
     "output_type": "display_data"
    }
   ],
   "source": [
    "y_train[0:10]\n",
    "plt.imshow(x_train[0])\n",
    "indices = random.sample(range(len(x_train)), 50000)\n",
    "x_train = x_train[indices]\n",
    "y_train = y_train[indices]"
   ]
  },
  {
   "cell_type": "code",
   "execution_count": 10,
   "id": "c536500c",
   "metadata": {},
   "outputs": [
    {
     "name": "stdout",
     "output_type": "stream",
     "text": [
      "Epoch 1/50\n",
      "400/400 [==============================] - 30s 71ms/step - loss: 6.3454 - accuracy: 0.2656 - val_loss: 5.5120 - val_accuracy: 0.3395\n",
      "Epoch 2/50\n",
      "400/400 [==============================] - 24s 60ms/step - loss: 5.2110 - accuracy: 0.3731 - val_loss: 4.6271 - val_accuracy: 0.4685\n",
      "Epoch 3/50\n",
      "400/400 [==============================] - 30s 75ms/step - loss: 4.5545 - accuracy: 0.4224 - val_loss: 4.1027 - val_accuracy: 0.5059\n",
      "Epoch 4/50\n",
      "400/400 [==============================] - 29s 73ms/step - loss: 4.0633 - accuracy: 0.4569 - val_loss: 3.6987 - val_accuracy: 0.5297\n",
      "Epoch 5/50\n",
      "400/400 [==============================] - 24s 60ms/step - loss: 3.6793 - accuracy: 0.4864 - val_loss: 3.3862 - val_accuracy: 0.5498\n",
      "Epoch 6/50\n",
      "400/400 [==============================] - 22s 55ms/step - loss: 3.3650 - accuracy: 0.5091 - val_loss: 3.1218 - val_accuracy: 0.5678\n",
      "Epoch 7/50\n",
      "400/400 [==============================] - 25s 62ms/step - loss: 3.1067 - accuracy: 0.5297 - val_loss: 2.9088 - val_accuracy: 0.5790\n",
      "Epoch 8/50\n",
      "400/400 [==============================] - 22s 54ms/step - loss: 2.8875 - accuracy: 0.5510 - val_loss: 2.7147 - val_accuracy: 0.5900\n",
      "Epoch 9/50\n",
      "400/400 [==============================] - 20s 51ms/step - loss: 2.7025 - accuracy: 0.5696 - val_loss: 2.5575 - val_accuracy: 0.6077\n",
      "Epoch 10/50\n",
      "400/400 [==============================] - 25s 62ms/step - loss: 2.5391 - accuracy: 0.5823 - val_loss: 2.4267 - val_accuracy: 0.6173\n",
      "Epoch 11/50\n",
      "400/400 [==============================] - 28s 69ms/step - loss: 2.4104 - accuracy: 0.5991 - val_loss: 2.3263 - val_accuracy: 0.6197\n",
      "Epoch 12/50\n",
      "400/400 [==============================] - 22s 56ms/step - loss: 2.2809 - accuracy: 0.6138 - val_loss: 2.2215 - val_accuracy: 0.6288\n",
      "Epoch 13/50\n",
      "400/400 [==============================] - 22s 56ms/step - loss: 2.1684 - accuracy: 0.6288 - val_loss: 2.1353 - val_accuracy: 0.6336\n",
      "Epoch 14/50\n",
      "400/400 [==============================] - 20s 51ms/step - loss: 2.0744 - accuracy: 0.6406 - val_loss: 2.0639 - val_accuracy: 0.6347\n",
      "Epoch 15/50\n",
      "400/400 [==============================] - 23s 58ms/step - loss: 1.9860 - accuracy: 0.6535 - val_loss: 1.9901 - val_accuracy: 0.6474\n",
      "Epoch 16/50\n",
      "400/400 [==============================] - 21s 54ms/step - loss: 1.8994 - accuracy: 0.6659 - val_loss: 1.9381 - val_accuracy: 0.6528\n",
      "Epoch 17/50\n",
      "400/400 [==============================] - 23s 57ms/step - loss: 1.8321 - accuracy: 0.6769 - val_loss: 1.9000 - val_accuracy: 0.6529\n",
      "Epoch 18/50\n",
      "400/400 [==============================] - 21s 51ms/step - loss: 1.7688 - accuracy: 0.6859 - val_loss: 1.8542 - val_accuracy: 0.6514\n",
      "Epoch 19/50\n",
      "400/400 [==============================] - 21s 52ms/step - loss: 1.7021 - accuracy: 0.6978 - val_loss: 1.8207 - val_accuracy: 0.6594\n",
      "Epoch 20/50\n",
      "400/400 [==============================] - 22s 54ms/step - loss: 1.6498 - accuracy: 0.7082 - val_loss: 1.7826 - val_accuracy: 0.6639\n",
      "Epoch 21/50\n",
      "400/400 [==============================] - 21s 52ms/step - loss: 1.5938 - accuracy: 0.7169 - val_loss: 1.7610 - val_accuracy: 0.6603\n",
      "Epoch 22/50\n",
      "400/400 [==============================] - 22s 54ms/step - loss: 1.5392 - accuracy: 0.7294 - val_loss: 1.7344 - val_accuracy: 0.6624\n",
      "Epoch 23/50\n",
      "400/400 [==============================] - 24s 60ms/step - loss: 1.4986 - accuracy: 0.7327 - val_loss: 1.7278 - val_accuracy: 0.6622\n",
      "Epoch 24/50\n",
      "400/400 [==============================] - 21s 52ms/step - loss: 1.4583 - accuracy: 0.7413 - val_loss: 1.6898 - val_accuracy: 0.6703\n",
      "Epoch 25/50\n",
      "400/400 [==============================] - 21s 52ms/step - loss: 1.4133 - accuracy: 0.7542 - val_loss: 1.6818 - val_accuracy: 0.6644\n",
      "Epoch 26/50\n",
      "400/400 [==============================] - 21s 52ms/step - loss: 1.3693 - accuracy: 0.7592 - val_loss: 1.6710 - val_accuracy: 0.6672\n",
      "Epoch 27/50\n",
      "400/400 [==============================] - 21s 52ms/step - loss: 1.3370 - accuracy: 0.7684 - val_loss: 1.6460 - val_accuracy: 0.6702\n",
      "Epoch 28/50\n",
      "400/400 [==============================] - 21s 53ms/step - loss: 1.3056 - accuracy: 0.7728 - val_loss: 1.6383 - val_accuracy: 0.6689\n",
      "Epoch 29/50\n",
      "400/400 [==============================] - 21s 52ms/step - loss: 1.2603 - accuracy: 0.7861 - val_loss: 1.6448 - val_accuracy: 0.6653\n",
      "Epoch 30/50\n",
      "400/400 [==============================] - 21s 53ms/step - loss: 1.2328 - accuracy: 0.7894 - val_loss: 1.6215 - val_accuracy: 0.6690\n",
      "Epoch 31/50\n",
      "400/400 [==============================] - 21s 52ms/step - loss: 1.2051 - accuracy: 0.7973 - val_loss: 1.6254 - val_accuracy: 0.6643\n",
      "Epoch 32/50\n",
      "400/400 [==============================] - 20s 51ms/step - loss: 1.1764 - accuracy: 0.8034 - val_loss: 1.6219 - val_accuracy: 0.6682\n",
      "Epoch 33/50\n",
      "400/400 [==============================] - 21s 52ms/step - loss: 1.1479 - accuracy: 0.8095 - val_loss: 1.6065 - val_accuracy: 0.6675\n",
      "Epoch 34/50\n",
      "400/400 [==============================] - 21s 52ms/step - loss: 1.1197 - accuracy: 0.8155 - val_loss: 1.6187 - val_accuracy: 0.6693\n",
      "Epoch 35/50\n",
      "400/400 [==============================] - 21s 52ms/step - loss: 1.0958 - accuracy: 0.8216 - val_loss: 1.6212 - val_accuracy: 0.6682\n",
      "Epoch 36/50\n",
      "400/400 [==============================] - 21s 51ms/step - loss: 1.0718 - accuracy: 0.8276 - val_loss: 1.5952 - val_accuracy: 0.6703\n",
      "Epoch 37/50\n",
      "400/400 [==============================] - 21s 52ms/step - loss: 1.0388 - accuracy: 0.8358 - val_loss: 1.5995 - val_accuracy: 0.6640\n",
      "Epoch 38/50\n",
      "400/400 [==============================] - 21s 51ms/step - loss: 1.0237 - accuracy: 0.8401 - val_loss: 1.6086 - val_accuracy: 0.6645\n",
      "Epoch 39/50\n",
      "400/400 [==============================] - 21s 52ms/step - loss: 0.9990 - accuracy: 0.8458 - val_loss: 1.6140 - val_accuracy: 0.6630\n",
      "Epoch 40/50\n",
      "400/400 [==============================] - 21s 52ms/step - loss: 0.9873 - accuracy: 0.8467 - val_loss: 1.6211 - val_accuracy: 0.6652\n",
      "Epoch 41/50\n",
      "WARNING:tensorflow:Your input ran out of data; interrupting training. Make sure that your dataset or generator can generate at least `steps_per_epoch * epochs` batches (in this case, 20000.0 batches). You may need to use the repeat() function when building your dataset.\n",
      "400/400 [==============================] - 3s 7ms/step - loss: 0.9873 - accuracy: 0.8467 - val_loss: 1.6211 - val_accuracy: 0.6652\n",
      "Model: \"sequential\"\n",
      "_________________________________________________________________\n",
      " Layer (type)                Output Shape              Param #   \n",
      "=================================================================\n",
      " conv2d (Conv2D)             (None, 30, 30, 32)        896       \n",
      "                                                                 \n",
      " batch_normalization (BatchN  (None, 30, 30, 32)       128       \n",
      " ormalization)                                                   \n",
      "                                                                 \n",
      " max_pooling2d (MaxPooling2D  (None, 15, 15, 32)       0         \n",
      " )                                                               \n",
      "                                                                 \n",
      " conv2d_1 (Conv2D)           (None, 13, 13, 64)        18496     \n",
      "                                                                 \n",
      " batch_normalization_1 (Batc  (None, 13, 13, 64)       256       \n",
      " hNormalization)                                                 \n",
      "                                                                 \n",
      " max_pooling2d_1 (MaxPooling  (None, 6, 6, 64)         0         \n",
      " 2D)                                                             \n",
      "                                                                 \n",
      " conv2d_2 (Conv2D)           (None, 4, 4, 128)         73856     \n",
      "                                                                 \n",
      " batch_normalization_2 (Batc  (None, 4, 4, 128)        512       \n",
      " hNormalization)                                                 \n",
      "                                                                 \n",
      " max_pooling2d_2 (MaxPooling  (None, 2, 2, 128)        0         \n",
      " 2D)                                                             \n",
      "                                                                 \n",
      " flatten (Flatten)           (None, 512)               0         \n",
      "                                                                 \n",
      " dense (Dense)               (None, 64)                32832     \n"
     ]
    },
    {
     "name": "stdout",
     "output_type": "stream",
     "text": [
      "                                                                 \n",
      " batch_normalization_3 (Batc  (None, 64)               256       \n",
      " hNormalization)                                                 \n",
      "                                                                 \n",
      " dropout (Dropout)           (None, 64)                0         \n",
      "                                                                 \n",
      " dense_1 (Dense)             (None, 128)               8320      \n",
      "                                                                 \n",
      " batch_normalization_4 (Batc  (None, 128)              512       \n",
      " hNormalization)                                                 \n",
      "                                                                 \n",
      " dropout_1 (Dropout)         (None, 128)               0         \n",
      "                                                                 \n",
      " dense_2 (Dense)             (None, 10)                1290      \n",
      "                                                                 \n",
      "=================================================================\n",
      "Total params: 137,354\n",
      "Trainable params: 136,522\n",
      "Non-trainable params: 832\n",
      "_________________________________________________________________\n"
     ]
    }
   ],
   "source": [
    "# One or more (convolutional +relu type activation+ pooling) layer\n",
    "# Dense fully connected MLP with one or more hidden layers.\n",
    "# Use only 2 or 3 convolutional layers, and 2 or 3 MLP layers.\n",
    "# Each convolutional layer uses one or more filter.\n",
    "# Use 2^k different filters in each layer (k=4-8 => 16-256 filters). \n",
    "# Each convolutional filter is odd size nxn\n",
    "# Choose a training optimizer of adagrad or rmsprop.\n",
    "# Use mini batch of 32-128.\n",
    "# Apply dropout and regularization to your training.\n",
    "# Use the real-time data augmentation.\n",
    "# Finally show testing results after training (train no more than 300 epocs.)\n",
    "# Define model\n",
    "\n",
    "# Use the real-time data augmentation.\n",
    "datagen = ImageDataGenerator(\n",
    "    rotation_range=15,\n",
    "    width_shift_range=0.1,\n",
    "    height_shift_range=0.1,\n",
    "    horizontal_flip=True,\n",
    "    vertical_flip=True,\n",
    "    zoom_range = 0.2)\n",
    "\n",
    "model = Sequential()\n",
    "\n",
    "# 3 Convolutional layers\n",
    "# Each convolutional layer uses 2^k filters with nxn odd shape.\n",
    "model.add(Conv2D(32, (3,3), activation='relu', kernel_initializer='he_uniform', kernel_regularizer=tf.keras.regularizers.l2(0.01), input_shape=x_train.shape[1:]))\n",
    "model.add(BatchNormalization())\n",
    "model.add(MaxPooling2D(pool_size=(2,2)))\n",
    "model.add(Conv2D(64, (3,3), activation='relu', kernel_initializer='he_uniform', kernel_regularizer=tf.keras.regularizers.l2(0.01)))\n",
    "model.add(BatchNormalization())\n",
    "model.add(MaxPooling2D(pool_size=(2,2)))\n",
    "model.add(Conv2D(128, (3,3), activation='relu', kernel_initializer='he_uniform', kernel_regularizer=tf.keras.regularizers.l2(0.01)))\n",
    "model.add(BatchNormalization())\n",
    "model.add(MaxPooling2D(pool_size=(2,2)))\n",
    "\n",
    "# MLP layers\n",
    "model.add(Flatten())\n",
    "model.add(Dense(64, activation='relu', kernel_initializer='he_uniform'))\n",
    "model.add(BatchNormalization())\n",
    "model.add(Dropout(0.3))\n",
    "model.add(Dense(128, activation='relu', kernel_initializer='he_uniform'))\n",
    "model.add(BatchNormalization())\n",
    "model.add(Dropout(0.4))\n",
    "model.add(Dense(num_classes, activation='softmax'))\n",
    "\n",
    "\n",
    "# Choose a training optimizer of adagrad or rmsprop.\n",
    "optimizer = Adagrad(learning_rate = 0.005)\n",
    "model.compile(loss='categorical_crossentropy', optimizer=optimizer, metrics=['accuracy'])\n",
    "\n",
    "\n",
    "# Train model with data augmentation\n",
    "datagen.fit(x_train)\n",
    "datagen.fit(x_test)\n",
    "batch_size = 125\n",
    "epochs = 50\n",
    "CNN = model.fit(x_train, y_train, batch_size=batch_size, epochs=epochs, steps_per_epoch=len(x_train) / batch_size, validation_split = 0.2)\n",
    "\n",
    "model.summary()"
   ]
  },
  {
   "cell_type": "code",
   "execution_count": 11,
   "id": "164f7660",
   "metadata": {},
   "outputs": [
    {
     "name": "stdout",
     "output_type": "stream",
     "text": [
      "313/313 [==============================] - 2s 6ms/step - loss: 1.6574 - accuracy: 0.6515\n",
      "313/313 [==============================] - 2s 5ms/step\n"
     ]
    }
   ],
   "source": [
    "# Evaluate model on test dataset\n",
    "score = model.evaluate(x_test, y_test, batch_size=32)\n",
    "Yhat = model.predict(x_test, batch_size=32)"
   ]
  },
  {
   "cell_type": "code",
   "execution_count": 12,
   "id": "49a99a73",
   "metadata": {},
   "outputs": [
    {
     "data": {
      "text/plain": [
       "<matplotlib.legend.Legend at 0x1cee81918e0>"
      ]
     },
     "execution_count": 12,
     "metadata": {},
     "output_type": "execute_result"
    },
    {
     "data": {
      "image/png": "[encoded data removed]",
      "text/plain": [
       "<Figure size 640x480 with 1 Axes>"
      ]
     },
     "metadata": {},
     "output_type": "display_data"
    }
   ],
   "source": [
    "1# Plot Error\n",
    "plt.subplot(211)\n",
    "plt.title('Loss')\n",
    "plt.plot(CNN.history['loss'], color='blue', label='Train')\n",
    "plt.plot(CNN.history['val_loss'], color='orange', label='Validation')\n",
    "plt.legend()"
   ]
  },
  {
   "cell_type": "code",
   "execution_count": 13,
   "id": "b95f29b7",
   "metadata": {},
   "outputs": [
    {
     "data": {
      "text/plain": [
       "<matplotlib.legend.Legend at 0x1cf2c6895e0>"
      ]
     },
     "execution_count": 13,
     "metadata": {},
     "output_type": "execute_result"
    },
    {
     "data": {
      "image/png": "[encoded data removed]",
      "text/plain": [
       "<Figure size 640x480 with 1 Axes>"
      ]
     },
     "metadata": {},
     "output_type": "display_data"
    }
   ],
   "source": [
    "# Plot Accuracy\n",
    "plt.subplot(212)\n",
    "plt.title('Accuracy')\n",
    "plt.plot(CNN.history['accuracy'], color='blue', label='Train')\n",
    "plt.plot(CNN.history['val_accuracy'], color='orange', label='Validation')\n",
    "plt.legend()"
   ]
  },
  {
   "cell_type": "code",
   "execution_count": null,
   "id": "bb833258",
   "metadata": {},
   "outputs": [],
   "source": []
  }
 ],
 "metadata": {
  "kernelspec": {
   "display_name": "Python 3 (ipykernel)",
   "language": "python",
   "name": "python3"
  },
  "language_info": {
   "codemirror_mode": {
    "name": "ipython",
    "version": 3
   },
   "file_extension": ".py",
   "mimetype": "text/x-python",
   "name": "python",
   "nbconvert_exporter": "python",
   "pygments_lexer": "ipython3",
   "version": "3.9.7"
  }
 },
 "nbformat": 4,
 "nbformat_minor": 5
}
